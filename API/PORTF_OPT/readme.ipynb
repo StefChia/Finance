{
 "cells": [
  {
   "cell_type": "markdown",
   "metadata": {},
   "source": [
    "STANDARD PORTFOLIO OPTIMIZATION within mean-variance framework.\n",
    "With cvxpy.\n",
    "\n",
    "Expected Values estimated via:\n",
    "-zero assumption\n",
    "-trading signals (e.g. sentiment analysis)\n",
    "\n",
    "Varcov estimated via:\n",
    "- sample variance\n",
    "- EWMA\n",
    "- GARCH"
   ]
  }
 ],
 "metadata": {
  "language_info": {
   "name": "python"
  }
 },
 "nbformat": 4,
 "nbformat_minor": 2
}
