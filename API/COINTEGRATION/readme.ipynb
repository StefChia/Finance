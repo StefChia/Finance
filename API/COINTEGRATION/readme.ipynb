{
 "cells": [
  {
   "cell_type": "markdown",
   "metadata": {},
   "source": [
    "Pairs-style PnL is roughly proportional to the negative forward change:\n",
    "PnL proportional to:  - sign(et)(et+1- et)\n",
    "\n",
    "\n",
    "**Short answer:** if you’re testing mean-reversion correctly, you should usually see  \n",
    "`bipolar_ex < bipolar_mid` (both typically ≤ 0) when you compare the **current residual** to the **forward difference**.\n",
    "\n",
    "**Why:**\n",
    "\n",
    "For an AR(1):\n",
    "\\[\n",
    "x_{t+1} = \\phi x_t + \\varepsilon_{t+1}\n",
    "\\]\n",
    "implies\n",
    "\\[\n",
    "\\Delta x_{t+1} = x_{t+1} - x_t = (\\phi - 1)\\,x_t + \\varepsilon_{t+1}.\n",
    "\\]\n",
    "\n",
    "With \\(0 < \\phi < 1\\) (mean-reverting), we have \\(\\phi - 1 < 0\\): large \\(x_t\\) implies \\(\\Delta x_{t+1}\\) tends to have the **opposite sign**.  \n",
    "Extremes are more reliably opposite than mid-range ⇒ the **extreme-weighted** concordance is **more negative**.\n",
    "\n"
   ]
  },
  {
   "cell_type": "markdown",
   "metadata": {},
   "source": [
    "Describing the one-period PnL of a unit mean-reversion trade on a spread \\(e_t\\):\n",
    "\n",
    "- **Position at \\(t\\)**: \\(p_t = -\\,\\dfrac{e_t}{|e_t|}\\) for \\(e_t \\ne 0\\) (set \\(p_t=0\\) if \\(e_t=0\\)).  \n",
    "  *(Short when the spread is positive, long when it’s negative.)*\n",
    "\n",
    "- **PnL from \\(t \\to t+1\\)**:\n",
    "  \\[\n",
    "  \\mathrm{PnL}_{t+1}\n",
    "  = p_t\\,(e_{t+1}-e_t)\n",
    "  = -\\,\\frac{e_t}{|e_t|}\\,(e_{t+1}-e_t)\n",
    "  \\quad (e_t \\ne 0).\n",
    "  \\]\n",
    "\n",
    "- **Piecewise form**:\n",
    "  \\\n",
    "  \\mathrm{PnL}_{t+1}=\n",
    "  \\begin{cases}\n",
    "  e_t - e_{t+1}, & e_t>0,\\\\[4pt]\n",
    "  e_{t+1} - e_t, & e_t<0,\\\\[4pt]\n",
    "  0, & e_t=0.\n",
    "  \\end{cases}\n",
    "  \n"
   ]
  },
  {
   "cell_type": "markdown",
   "metadata": {},
   "source": [
    "TO DO:\n",
    "-Fare strategia daily in-out (pensare a come rappresentare sul grafico. Attualmente all'uscita: trade profitaable or not)\n",
    "-Bayesian linear regression\n",
    "-Per kalman filter la strategy hold è da modificare perchè il cointegrating vector cambia tra qundo sei entrato e quando sei uscito."
   ]
  }
 ],
 "metadata": {
  "language_info": {
   "name": "python"
  }
 },
 "nbformat": 4,
 "nbformat_minor": 2
}
